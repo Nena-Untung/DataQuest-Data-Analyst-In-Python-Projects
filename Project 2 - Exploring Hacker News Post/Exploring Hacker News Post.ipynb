{
 "cells": [
  {
   "cell_type": "markdown",
   "metadata": {},
   "source": [
    "# Exploring Hacker News Post\n",
    "\n",
    "# Introduction\n",
    "\n",
    "On this project we will look into data from a social news website called Hacker News. The goal of this project is to understand what type of posts are likely to receive higher engagement. On Hacker News, users can submit stories that other people can vote or comment on. We will use this [data](https://www.kaggle.com/hacker-news/hacker-news-posts) from Kaggle throughout this project. \n",
    "\n",
    "We will perform the following analysis to arrive to our conclusion:\n",
    " * Compare `Ask HN` and `Show HN` posts\n",
    " * Explore whether posts that are created at a certain time receives more comments on avarage\n",
    "\n",
    "### Summary of Results\n",
    "\n",
    "`Ask HN` posts that are created around 3 PM EST are more likely to receive comments. On our data set, `Ask HN` posts receive 112.7% more comments compared to `Show HN` posts. Therefore, if a user is interested in posting on Hacker News, he or she should post `Ask HN` type of post at 3 PM EST.\n",
    "\n",
    "For more details, please refer to the full analysis below.\n",
    "\n",
    "# Data Exploration\n",
    "\n",
    "Let's first explore the data set from Kaggle and transform the data into list of lists."
   ]
  },
  {
   "cell_type": "code",
   "execution_count": 1,
   "metadata": {},
   "outputs": [
    {
     "name": "stdout",
     "output_type": "stream",
     "text": [
      "['id', 'title', 'url', 'num_points', 'num_comments', 'author', 'created_at']\n"
     ]
    },
    {
     "data": {
      "text/plain": [
       "[['12579008',\n",
       "  'You have two days to comment if you want stem cells to be classified as your own',\n",
       "  'http://www.regulations.gov/document?D=FDA-2015-D-3719-0018',\n",
       "  '1',\n",
       "  '0',\n",
       "  'altstar',\n",
       "  '9/26/2016 3:26'],\n",
       " ['12579005',\n",
       "  'SQLAR  the SQLite Archiver',\n",
       "  'https://www.sqlite.org/sqlar/doc/trunk/README.md',\n",
       "  '1',\n",
       "  '0',\n",
       "  'blacksqr',\n",
       "  '9/26/2016 3:24'],\n",
       " ['12578997',\n",
       "  'What if we just printed a flatscreen television on the side of our boxes?',\n",
       "  'https://medium.com/vanmoof/our-secrets-out-f21c1f03fdc8#.ietxmez43',\n",
       "  '1',\n",
       "  '0',\n",
       "  'pavel_lishin',\n",
       "  '9/26/2016 3:19'],\n",
       " ['12578989',\n",
       "  'algorithmic music',\n",
       "  'http://cacm.acm.org/magazines/2011/7/109891-algorithmic-composition/fulltext',\n",
       "  '1',\n",
       "  '0',\n",
       "  'poindontcare',\n",
       "  '9/26/2016 3:16'],\n",
       " ['12578979',\n",
       "  'How the Data Vault Enables the Next-Gen Data Warehouse and Data Lake',\n",
       "  'https://www.talend.com/blog/2016/05/12/talend-and-Â\\x93the-data-vaultÂ\\x94',\n",
       "  '1',\n",
       "  '0',\n",
       "  'markgainor1',\n",
       "  '9/26/2016 3:14'],\n",
       " ['12578975',\n",
       "  'Saving the Hassle of Shopping',\n",
       "  'https://blog.menswr.com/2016/09/07/whats-new-with-your-style-feed/',\n",
       "  '1',\n",
       "  '1',\n",
       "  'bdoux',\n",
       "  '9/26/2016 3:13'],\n",
       " ['12578954',\n",
       "  \"Macalifa  A new open-source music app for UWP that won't suck\",\n",
       "  'http://forums.windowscentral.com/windows-phone-apps/440523-macalifa-new-open-source-music-app-uwp-wont-suck.html',\n",
       "  '1',\n",
       "  '0',\n",
       "  'thecodrr',\n",
       "  '9/26/2016 3:06'],\n",
       " ['12578942',\n",
       "  'GitHub  theweavrs/Macalifa: A music player written for UWP',\n",
       "  'https://github.com/theweavrs/Macalifa',\n",
       "  '1',\n",
       "  '0',\n",
       "  'thecodrr',\n",
       "  '9/26/2016 3:04'],\n",
       " ['12578919',\n",
       "  'Google Allo  first Impression',\n",
       "  'http://prodissues.com/2016/09/google-allo-first-impression.html',\n",
       "  '3',\n",
       "  '0',\n",
       "  'jandll',\n",
       "  '9/26/2016 2:57'],\n",
       " ['12578918',\n",
       "  'Advanced Multimedia on the Linux Command Line',\n",
       "  'https://avi.alkalay.net/2016/09/multimedia-linux-cli.html',\n",
       "  '1',\n",
       "  '0',\n",
       "  'mynameislegion',\n",
       "  '9/26/2016 2:56']]"
      ]
     },
     "execution_count": 1,
     "metadata": {},
     "output_type": "execute_result"
    }
   ],
   "source": [
    "from csv import reader\n",
    "\n",
    "# Read the data\n",
    "opened_file = open('HN_posts_year_to_Sep_26_2016.csv')\n",
    "read_file = reader(opened_file)\n",
    "\n",
    "# Transform into list of lists\n",
    "hn = list(read_file)\n",
    "\n",
    "# Store header data on a separate list\n",
    "hn_header = hn[0]\n",
    "hn = hn[1:]\n",
    "\n",
    "print(hn_header)\n",
    "hn[0:10]"
   ]
  },
  {
   "cell_type": "markdown",
   "metadata": {},
   "source": [
    "For our analysis, we will be focusing on `title`, `num_comments`, and `created_at` columns. The `title` and `created_at` columns can be useful to segment our data, while the `num_comments` column can be used to measure the user engagement.\n",
    "\n",
    "# Data Analysis\n",
    "\n",
    "## Post Types Comparison\n",
    "\n",
    "On our analysis, we will focus on comparing `Ask HN` and `Show HN` posts to understand which type of post is more popular. A user may submit `Ask HN` post to ask the community a specific question, while `Show HN` post is where a user show a project, product or just generally something interesting. We can segment the data by using the first couple of strings of the `title` column."
   ]
  },
  {
   "cell_type": "code",
   "execution_count": 12,
   "metadata": {},
   "outputs": [
    {
     "name": "stdout",
     "output_type": "stream",
     "text": [
      "Ask posts has  9139  number of post\n",
      "Show posts has  10158  number of post\n",
      "Other posts has  273822  number of post\n",
      "\n",
      "\n",
      "Sample of Ask posts\n",
      "['12578908', 'Ask HN: What TLD do you use for local development?', '', '4', '7', 'Sevrene', '9/26/2016 2:53'] \n",
      "\n",
      "['12578522', 'Ask HN: How do you pass on your work when you die?', '', '6', '3', 'PascLeRasc', '9/26/2016 1:17'] \n",
      "\n",
      "['12577908', 'Ask HN: How a DNS problem can be limited to a geographic region?', '', '1', '0', 'kuon', '9/25/2016 22:57'] \n",
      "\n",
      "['12577870', 'Ask HN: Why join a fund when you can be an angel?', '', '1', '3', 'anthony_james', '9/25/2016 22:48'] \n",
      "\n",
      "['12577647', 'Ask HN: Someone uses stock trading as passive income?', '', '5', '2', '00taffe', '9/25/2016 21:50'] \n",
      "\n",
      "\n",
      "\n",
      "Sample of Show posts\n",
      "['12578335', 'Show HN: Finding puns computationally', 'http://puns.samueltaylor.org/', '2', '0', 'saamm', '9/26/2016 0:36'] \n",
      "\n",
      "['12578182', 'Show HN: A simple library for complicated animations', 'https://christinecha.github.io/choreographer-js/', '1', '0', 'christinecha', '9/26/2016 0:01'] \n",
      "\n",
      "['12578098', 'Show HN: WebGL visualization of DNA sequences', 'http://grondilu.github.io/dna.html', '1', '0', 'grondilu', '9/25/2016 23:44'] \n",
      "\n",
      "['12577991', 'Show HN: Pomodoro-centric, heirarchical project management with ES6 modules', 'https://github.com/jakebian/zeal', '2', '0', 'dbranes', '9/25/2016 23:17'] \n",
      "\n",
      "['12577142', 'Show HN: Jumble  Essays on the go #PaulInYourPocket', 'https://itunes.apple.com/us/app/jumble-find-startup-essay/id1150939197?ls=1&mt=8', '1', '1', 'ryderj', '9/25/2016 20:06'] \n",
      "\n"
     ]
    }
   ],
   "source": [
    "# Create empty list for each post type\n",
    "ask_posts  = []\n",
    "show_posts = []\n",
    "other_posts = []\n",
    "\n",
    "for row in hn:\n",
    "    title = row[1]                      # Use the title column\n",
    "    title = title.lower()               # Converts the title to all lower case\n",
    "    if title.startswith('ask hn'):      # Adds post to ask_posts list if it starts with 'ask hn'\n",
    "        ask_posts.append(row)\n",
    "    elif title.startswith('show hn'):   # Adds post to show_posts list if it starts with 'show hn'\n",
    "        show_posts.append(row)\n",
    "    else:                               # Adds the rest of the post to other_posts list\n",
    "        other_posts.append(row)\n",
    "\n",
    "# Check the number of posts on each list\n",
    "print('Ask posts has ',len(ask_posts),' number of post')\n",
    "print('Show posts has ',len(show_posts),' number of post')\n",
    "print('Other posts has ',len(other_posts),' number of post')\n",
    "print('\\n')\n",
    "\n",
    "# Confirm that the list contains the correct types of post\n",
    "print('Sample of Ask posts')\n",
    "for row in ask_posts[0:5]:\n",
    "    print(row,'\\n')\n",
    "print('\\n')\n",
    "print('Sample of Show posts')\n",
    "for row in show_posts[0:5]:\n",
    "    print(row,'\\n')"
   ]
  },
  {
   "cell_type": "markdown",
   "metadata": {},
   "source": [
    "The data set currently includes a comparable amount of `Ask HN` versus `Show HN` posts with `Show HN` list having 11% more rows compared to `Ask HN` post type.\n",
    "\n",
    "Next, let's determine if `Ask HN` or `Show HN` posts receive more comments in average."
   ]
  },
  {
   "cell_type": "code",
   "execution_count": null,
   "metadata": {},
   "outputs": [],
   "source": [
    "# Create a variable to sum the number of comments for Ask HN type\n",
    "total_ask_comments = 0\n",
    "\n",
    "# Create a loop that sums up the num_comments column for ask_posts list\n",
    "for row in ask_posts:                   \n",
    "    num_comments = int(row[4])           \n",
    "    total_ask_comments += num_comments \n",
    "\n",
    "# Calculate the average number of comments for Ask HN type\n",
    "avg_ask_comments = total_ask_comments / len(ask_posts)  \n",
    "print('The average number of comments for ask posts is',avg_ask_comments)\n",
    "\n",
    "# Create a variable to sum the number of comments for Show HN type\n",
    "total_show_comments = 0\n",
    "\n",
    "# Create a loop that sums up the num_comments column for show_posts list\n",
    "for row in show_posts:                   \n",
    "    num_comments = int(row[4])           \n",
    "    total_show_comments += num_comments \n",
    "    \n",
    "# Calculate the average number of comments for Show HN type\n",
    "avg_show_comments = total_show_comments / len(show_posts) \n",
    "print('The average number of comments for show posts is',avg_show_comments)"
   ]
  },
  {
   "cell_type": "markdown",
   "metadata": {},
   "source": [
    "On average, `Ask HN` posts receives more than twice the amount of comments compared to `Show HN` posts.\n",
    "\n",
    "Since `Ask HN` receives more comments compared to `Show HN`, we will be focusing on `Ask HN` posts for the rest of our analysis. \n",
    "\n",
    "## Post Created Time Analysis\n",
    " \n",
    "Let's explore whether post created time has an effect on the number of comments that the post receive. To do this analysis we will perform the following steps:\n",
    " * Calculate the amount of ask posts created in each hour of the day\n",
    " * Calculate the average number of comments ask posts receive by hour created\n",
    "\n",
    "Let's first calculate the amount of ask posts created in each hour of the day."
   ]
  },
  {
   "cell_type": "code",
   "execution_count": null,
   "metadata": {},
   "outputs": [],
   "source": [
    "import datetime as dt\n",
    "\n",
    "# Create an empty list for the result \n",
    "result_lists = []\n",
    "\n",
    "# Append post creation time and number of comments variable to the result list\n",
    "for row in ask_posts:\n",
    "    created_at = row[6]\n",
    "    num_comments = int(row[4])\n",
    "    result_lists.append([created_at,num_comments])\n",
    "\n",
    "# Create empty dictionaries to count the number of posts and comments by hour \n",
    "counts_by_hour = {}\n",
    "comments_by_hour = {}\n",
    "\n",
    "for row in result_lists:\n",
    "    date_str = str(row[0])\n",
    "    date_dt = dt.datetime.strptime(date_str,'%m/%d/%Y %H:%M') # Convert created_at column as datetime object\n",
    "    date_hr = dt.datetime.strftime(date_dt, '%H')             # Parse the hour from the datetime object\n",
    "    if date_hr not in counts_by_hour:\n",
    "        counts_by_hour[date_hr] = 1               # Create key in counts_by_hour and set value to 1\n",
    "        comments_by_hour[date_hr] = row[1]        # Create key in comments_by_hour and set value to number of comments\n",
    "    else:\n",
    "        counts_by_hour[date_hr] += 1              # Increment the value in counts_by_hour by 1\n",
    "        comments_by_hour[date_hr] += row[1]       # Increment the value in comments_by_hour by the number of comments"
   ]
  },
  {
   "cell_type": "markdown",
   "metadata": {},
   "source": [
    "Now we have two dictionaries that:\n",
    " 1. Counts the number of ask posts by the hour\n",
    " 2. Counts the number of comments by the hour\n",
    "\n",
    "Next, we will use these dictionaries to calculate the average number of comments for each hour of the day."
   ]
  },
  {
   "cell_type": "code",
   "execution_count": null,
   "metadata": {},
   "outputs": [],
   "source": [
    "# Create an empty list to store the result\n",
    "avg_by_hour = []\n",
    "\n",
    "# Loop through each hour on comments_by_hour\n",
    "for hour in comments_by_hour:\n",
    "    # Divide the number of comment by hour by the number of post by hour\n",
    "    avg_by_hour.append([hour, comments_by_hour[hour] / counts_by_hour[hour]]) \n",
    "\n",
    "avg_by_hour"
   ]
  },
  {
   "cell_type": "markdown",
   "metadata": {},
   "source": [
    "Next, let's identify which hour has the highest average number of comments. We will first need to swap the average number of comments column with the hour of day column in order to use the sort function."
   ]
  },
  {
   "cell_type": "code",
   "execution_count": null,
   "metadata": {},
   "outputs": [],
   "source": [
    "swap_avg_by_hour = []\n",
    "\n",
    "for row in avg_by_hour:\n",
    "    swap_avg_by_hour.append([row[1],row[0]]) # Swap the average number of comments with the hour of day column\n",
    "\n",
    "swap_avg_by_hour"
   ]
  },
  {
   "cell_type": "markdown",
   "metadata": {},
   "source": [
    "Next, we'll sort this list based on the highest number of average comment."
   ]
  },
  {
   "cell_type": "code",
   "execution_count": null,
   "metadata": {},
   "outputs": [],
   "source": [
    "sorted_swap = sorted(swap_avg_by_hour,reverse = True) # Sort by highest number of average comment\n",
    "\n",
    "print(\"Top 5 Hours for Ask Posts Comments\")\n",
    "\n",
    "for row in sorted_swap[:5]:                    # Loop through the first five rows\n",
    "    time = dt.datetime.strptime(row[1],\"%H\")   # Convert the hour as datetime object\n",
    "    time = dt.datetime.strftime(time,\"%H:%M\")  # Formats the hour to hour:minute format\n",
    "    print(\"{time}: {avg:.2f} average comments per post\".format(time=time, avg=row[0])) # Prints with properly formatted time and average numbers"
   ]
  },
  {
   "cell_type": "markdown",
   "metadata": {},
   "source": [
    "# Conclusion\n",
    "\n",
    "If a user is interested in posting on Hacker News, he or she should create `Ask HN` post at 3 PM EST. However, there are a couple other variables that a user might need to consider:\n",
    "* The data set was from 2016, so there might be a shift in user's interest in recent years\n",
    "* Which topics receive the most comments?\n",
    "* Which types of posts receive more points or upvotes?"
   ]
  }
 ],
 "metadata": {
  "kernelspec": {
   "display_name": "Python 3",
   "language": "python",
   "name": "python3"
  },
  "language_info": {
   "codemirror_mode": {
    "name": "ipython",
    "version": 3
   },
   "file_extension": ".py",
   "mimetype": "text/x-python",
   "name": "python",
   "nbconvert_exporter": "python",
   "pygments_lexer": "ipython3",
   "version": "3.7.4"
  }
 },
 "nbformat": 4,
 "nbformat_minor": 2
}
