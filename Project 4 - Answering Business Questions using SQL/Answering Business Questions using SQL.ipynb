{
 "cells": [
  {
   "cell_type": "markdown",
   "metadata": {},
   "source": [
    "# Deriving Insights from Record Store Database\n",
    "\n",
    "# Introduction\n",
    "\n",
    "On this project we will be working with a record store named Chinook. The database that we use includes tables for artists, albums, media tracks, invoices and customers. There are three main questions that we will answer on this project:\n",
    "* Which genres are most popular in the USA?\n",
    "* Which sales agent is doing better than others? Why?\n",
    "* Which country should we expand our marketing efforts towards?\n",
    "\n",
    "For reference, the following is the schema of Chinook database."
   ]
  },
  {
   "cell_type": "code",
   "execution_count": 1,
   "metadata": {
    "scrolled": true
   },
   "outputs": [
    {
     "data": {
      "text/html": [
       "<img src=\"img/chinook-schema.png\", width=\"400\">"
      ],
      "text/plain": [
       "<IPython.core.display.HTML object>"
      ]
     },
     "metadata": {},
     "output_type": "display_data"
    }
   ],
   "source": [
    "%%html\n",
    "<img src=\"img/chinook-schema.png\", width=\"400\">"
   ]
  },
  {
   "cell_type": "markdown",
   "metadata": {},
   "source": [
    "# Overview of Data\n",
    "\n",
    "Let's first set up our environment to accomodate SQL Lite and import the Chinook database."
   ]
  },
  {
   "cell_type": "code",
   "execution_count": 2,
   "metadata": {},
   "outputs": [],
   "source": [
    "import sqlite3 as sql"
   ]
  },
  {
   "cell_type": "code",
   "execution_count": 3,
   "metadata": {},
   "outputs": [],
   "source": [
    "%%capture\n",
    "%reload_ext sql"
   ]
  },
  {
   "cell_type": "code",
   "execution_count": 4,
   "metadata": {},
   "outputs": [],
   "source": [
    "%sql sqlite:///chinook.db"
   ]
  },
  {
   "cell_type": "markdown",
   "metadata": {},
   "source": [
    "Next, let's preview the data and run a couple of queries on the tables."
   ]
  },
  {
   "cell_type": "code",
   "execution_count": 5,
   "metadata": {
    "scrolled": false
   },
   "outputs": [
    {
     "name": "stdout",
     "output_type": "stream",
     "text": [
      " * sqlite:///chinook.db\n",
      "Done.\n"
     ]
    },
    {
     "data": {
      "text/html": [
       "<table>\n",
       "    <tr>\n",
       "        <th>name</th>\n",
       "        <th>type</th>\n",
       "    </tr>\n",
       "    <tr>\n",
       "        <td>albums</td>\n",
       "        <td>table</td>\n",
       "    </tr>\n",
       "    <tr>\n",
       "        <td>sqlite_sequence</td>\n",
       "        <td>table</td>\n",
       "    </tr>\n",
       "    <tr>\n",
       "        <td>artists</td>\n",
       "        <td>table</td>\n",
       "    </tr>\n",
       "    <tr>\n",
       "        <td>customers</td>\n",
       "        <td>table</td>\n",
       "    </tr>\n",
       "    <tr>\n",
       "        <td>employees</td>\n",
       "        <td>table</td>\n",
       "    </tr>\n",
       "    <tr>\n",
       "        <td>genres</td>\n",
       "        <td>table</td>\n",
       "    </tr>\n",
       "    <tr>\n",
       "        <td>invoices</td>\n",
       "        <td>table</td>\n",
       "    </tr>\n",
       "    <tr>\n",
       "        <td>invoice_items</td>\n",
       "        <td>table</td>\n",
       "    </tr>\n",
       "    <tr>\n",
       "        <td>media_types</td>\n",
       "        <td>table</td>\n",
       "    </tr>\n",
       "    <tr>\n",
       "        <td>playlists</td>\n",
       "        <td>table</td>\n",
       "    </tr>\n",
       "    <tr>\n",
       "        <td>playlist_track</td>\n",
       "        <td>table</td>\n",
       "    </tr>\n",
       "    <tr>\n",
       "        <td>tracks</td>\n",
       "        <td>table</td>\n",
       "    </tr>\n",
       "    <tr>\n",
       "        <td>sqlite_stat1</td>\n",
       "        <td>table</td>\n",
       "    </tr>\n",
       "</table>"
      ],
      "text/plain": [
       "[('albums', 'table'),\n",
       " ('sqlite_sequence', 'table'),\n",
       " ('artists', 'table'),\n",
       " ('customers', 'table'),\n",
       " ('employees', 'table'),\n",
       " ('genres', 'table'),\n",
       " ('invoices', 'table'),\n",
       " ('invoice_items', 'table'),\n",
       " ('media_types', 'table'),\n",
       " ('playlists', 'table'),\n",
       " ('playlist_track', 'table'),\n",
       " ('tracks', 'table'),\n",
       " ('sqlite_stat1', 'table')]"
      ]
     },
     "execution_count": 5,
     "metadata": {},
     "output_type": "execute_result"
    }
   ],
   "source": [
    "%%sql\n",
    "SELECT \n",
    "    name,\n",
    "    type\n",
    "FROM sqlite_master\n",
    "WHERE type IN (\"table\",\"view\");"
   ]
  },
  {
   "cell_type": "code",
   "execution_count": 6,
   "metadata": {},
   "outputs": [
    {
     "name": "stdout",
     "output_type": "stream",
     "text": [
      " * sqlite:///chinook.db\n",
      "Done.\n"
     ]
    },
    {
     "data": {
      "text/html": [
       "<table>\n",
       "    <tr>\n",
       "        <th>AlbumId</th>\n",
       "        <th>Title</th>\n",
       "        <th>ArtistId</th>\n",
       "    </tr>\n",
       "    <tr>\n",
       "        <td>1</td>\n",
       "        <td>For Those About To Rock We Salute You</td>\n",
       "        <td>1</td>\n",
       "    </tr>\n",
       "    <tr>\n",
       "        <td>2</td>\n",
       "        <td>Balls to the Wall</td>\n",
       "        <td>2</td>\n",
       "    </tr>\n",
       "    <tr>\n",
       "        <td>3</td>\n",
       "        <td>Restless and Wild</td>\n",
       "        <td>2</td>\n",
       "    </tr>\n",
       "    <tr>\n",
       "        <td>4</td>\n",
       "        <td>Let There Be Rock</td>\n",
       "        <td>1</td>\n",
       "    </tr>\n",
       "    <tr>\n",
       "        <td>5</td>\n",
       "        <td>Big Ones</td>\n",
       "        <td>3</td>\n",
       "    </tr>\n",
       "</table>"
      ],
      "text/plain": [
       "[(1, 'For Those About To Rock We Salute You', 1),\n",
       " (2, 'Balls to the Wall', 2),\n",
       " (3, 'Restless and Wild', 2),\n",
       " (4, 'Let There Be Rock', 1),\n",
       " (5, 'Big Ones', 3)]"
      ]
     },
     "execution_count": 6,
     "metadata": {},
     "output_type": "execute_result"
    }
   ],
   "source": [
    "%%sql\n",
    "SELECT *     \n",
    "FROM albums\n",
    "LIMIT 5      "
   ]
  },
  {
   "cell_type": "code",
   "execution_count": 7,
   "metadata": {},
   "outputs": [
    {
     "name": "stdout",
     "output_type": "stream",
     "text": [
      " * sqlite:///chinook.db\n",
      "Done.\n"
     ]
    },
    {
     "data": {
      "text/html": [
       "<table>\n",
       "    <tr>\n",
       "        <th>InvoiceId</th>\n",
       "        <th>CustomerId</th>\n",
       "        <th>InvoiceDate</th>\n",
       "        <th>BillingAddress</th>\n",
       "        <th>BillingCity</th>\n",
       "        <th>BillingState</th>\n",
       "        <th>BillingCountry</th>\n",
       "        <th>BillingPostalCode</th>\n",
       "        <th>Total</th>\n",
       "    </tr>\n",
       "    <tr>\n",
       "        <td>1</td>\n",
       "        <td>2</td>\n",
       "        <td>2009-01-01 00:00:00</td>\n",
       "        <td>Theodor-Heuss-Straße 34</td>\n",
       "        <td>Stuttgart</td>\n",
       "        <td>None</td>\n",
       "        <td>Germany</td>\n",
       "        <td>70174</td>\n",
       "        <td>1.98</td>\n",
       "    </tr>\n",
       "    <tr>\n",
       "        <td>2</td>\n",
       "        <td>4</td>\n",
       "        <td>2009-01-02 00:00:00</td>\n",
       "        <td>Ullevålsveien 14</td>\n",
       "        <td>Oslo</td>\n",
       "        <td>None</td>\n",
       "        <td>Norway</td>\n",
       "        <td>0171</td>\n",
       "        <td>3.96</td>\n",
       "    </tr>\n",
       "    <tr>\n",
       "        <td>3</td>\n",
       "        <td>8</td>\n",
       "        <td>2009-01-03 00:00:00</td>\n",
       "        <td>Grétrystraat 63</td>\n",
       "        <td>Brussels</td>\n",
       "        <td>None</td>\n",
       "        <td>Belgium</td>\n",
       "        <td>1000</td>\n",
       "        <td>5.94</td>\n",
       "    </tr>\n",
       "    <tr>\n",
       "        <td>4</td>\n",
       "        <td>14</td>\n",
       "        <td>2009-01-06 00:00:00</td>\n",
       "        <td>8210 111 ST NW</td>\n",
       "        <td>Edmonton</td>\n",
       "        <td>AB</td>\n",
       "        <td>Canada</td>\n",
       "        <td>T6G 2C7</td>\n",
       "        <td>8.91</td>\n",
       "    </tr>\n",
       "    <tr>\n",
       "        <td>5</td>\n",
       "        <td>23</td>\n",
       "        <td>2009-01-11 00:00:00</td>\n",
       "        <td>69 Salem Street</td>\n",
       "        <td>Boston</td>\n",
       "        <td>MA</td>\n",
       "        <td>USA</td>\n",
       "        <td>2113</td>\n",
       "        <td>13.86</td>\n",
       "    </tr>\n",
       "</table>"
      ],
      "text/plain": [
       "[(1, 2, '2009-01-01 00:00:00', 'Theodor-Heuss-Straße 34', 'Stuttgart', None, 'Germany', '70174', 1.98),\n",
       " (2, 4, '2009-01-02 00:00:00', 'Ullevålsveien 14', 'Oslo', None, 'Norway', '0171', 3.96),\n",
       " (3, 8, '2009-01-03 00:00:00', 'Grétrystraat 63', 'Brussels', None, 'Belgium', '1000', 5.94),\n",
       " (4, 14, '2009-01-06 00:00:00', '8210 111 ST NW', 'Edmonton', 'AB', 'Canada', 'T6G 2C7', 8.91),\n",
       " (5, 23, '2009-01-11 00:00:00', '69 Salem Street', 'Boston', 'MA', 'USA', '2113', 13.86)]"
      ]
     },
     "execution_count": 7,
     "metadata": {},
     "output_type": "execute_result"
    }
   ],
   "source": [
    "%%sql\n",
    "SELECT *     \n",
    "FROM invoices\n",
    "ORDER BY InvoiceDate\n",
    "LIMIT 5      "
   ]
  },
  {
   "cell_type": "markdown",
   "metadata": {},
   "source": [
    "# Top Genres in the USA\n",
    "\n",
    "Chinook just signed a deal with a new record label and we need to select the first three albums that will be added to the store. The record label has four albums on their list. All four albums are by artists that don't have any tracks in the store currently. The following are the artist names and the genre of music they produce:\n",
    "\n",
    "| Artist Name          | Genre   |\n",
    "|-                     |-        |\n",
    "| Regal                | Hip-Hop |\n",
    "| Red Tone             | Punk    |\n",
    "| Meteor and the Girls | Pop     |\n",
    "| Slim Jim Bites       | Blues   |\n",
    "\n",
    "The record label specializes in promoting artists from the USA, and have given Chinook some money to advertise new albums in the USA only. Let's find out which genres are the most popular in the country.\n",
    "\n",
    "## Analysis\n",
    "\n",
    "To approach this question, we will do a left join between tracks, invoice_items, invoices, and genres tables:"
   ]
  },
  {
   "cell_type": "code",
   "execution_count": 8,
   "metadata": {},
   "outputs": [
    {
     "name": "stdout",
     "output_type": "stream",
     "text": [
      " * sqlite:///chinook.db\n",
      "Done.\n"
     ]
    },
    {
     "data": {
      "text/html": [
       "<table>\n",
       "    <tr>\n",
       "        <th>Name</th>\n",
       "        <th>tracks_sold</th>\n",
       "        <th>percentage_sold</th>\n",
       "    </tr>\n",
       "    <tr>\n",
       "        <td>Rock</td>\n",
       "        <td>157</td>\n",
       "        <td>0.31781376518218624</td>\n",
       "    </tr>\n",
       "    <tr>\n",
       "        <td>Latin</td>\n",
       "        <td>91</td>\n",
       "        <td>0.18421052631578946</td>\n",
       "    </tr>\n",
       "    <tr>\n",
       "        <td>Metal</td>\n",
       "        <td>64</td>\n",
       "        <td>0.12955465587044535</td>\n",
       "    </tr>\n",
       "    <tr>\n",
       "        <td>Alternative &amp; Punk</td>\n",
       "        <td>50</td>\n",
       "        <td>0.10121457489878542</td>\n",
       "    </tr>\n",
       "    <tr>\n",
       "        <td>Jazz</td>\n",
       "        <td>22</td>\n",
       "        <td>0.044534412955465584</td>\n",
       "    </tr>\n",
       "    <tr>\n",
       "        <td>Blues</td>\n",
       "        <td>15</td>\n",
       "        <td>0.030364372469635626</td>\n",
       "    </tr>\n",
       "    <tr>\n",
       "        <td>TV Shows</td>\n",
       "        <td>14</td>\n",
       "        <td>0.02834008097165992</td>\n",
       "    </tr>\n",
       "    <tr>\n",
       "        <td>R&amp;B/Soul</td>\n",
       "        <td>12</td>\n",
       "        <td>0.024291497975708502</td>\n",
       "    </tr>\n",
       "    <tr>\n",
       "        <td>Classical</td>\n",
       "        <td>8</td>\n",
       "        <td>0.016194331983805668</td>\n",
       "    </tr>\n",
       "    <tr>\n",
       "        <td>Comedy</td>\n",
       "        <td>8</td>\n",
       "        <td>0.016194331983805668</td>\n",
       "    </tr>\n",
       "    <tr>\n",
       "        <td>Bossa Nova</td>\n",
       "        <td>7</td>\n",
       "        <td>0.01417004048582996</td>\n",
       "    </tr>\n",
       "    <tr>\n",
       "        <td>Drama</td>\n",
       "        <td>6</td>\n",
       "        <td>0.012145748987854251</td>\n",
       "    </tr>\n",
       "    <tr>\n",
       "        <td>Reggae</td>\n",
       "        <td>6</td>\n",
       "        <td>0.012145748987854251</td>\n",
       "    </tr>\n",
       "    <tr>\n",
       "        <td>Alternative</td>\n",
       "        <td>5</td>\n",
       "        <td>0.010121457489878543</td>\n",
       "    </tr>\n",
       "    <tr>\n",
       "        <td>Pop</td>\n",
       "        <td>5</td>\n",
       "        <td>0.010121457489878543</td>\n",
       "    </tr>\n",
       "    <tr>\n",
       "        <td>Sci Fi &amp; Fantasy</td>\n",
       "        <td>5</td>\n",
       "        <td>0.010121457489878543</td>\n",
       "    </tr>\n",
       "    <tr>\n",
       "        <td>Heavy Metal</td>\n",
       "        <td>4</td>\n",
       "        <td>0.008097165991902834</td>\n",
       "    </tr>\n",
       "    <tr>\n",
       "        <td>Hip Hop/Rap</td>\n",
       "        <td>4</td>\n",
       "        <td>0.008097165991902834</td>\n",
       "    </tr>\n",
       "    <tr>\n",
       "        <td>Soundtrack</td>\n",
       "        <td>4</td>\n",
       "        <td>0.008097165991902834</td>\n",
       "    </tr>\n",
       "    <tr>\n",
       "        <td>Easy Listening</td>\n",
       "        <td>3</td>\n",
       "        <td>0.006072874493927126</td>\n",
       "    </tr>\n",
       "    <tr>\n",
       "        <td>Rock And Roll</td>\n",
       "        <td>3</td>\n",
       "        <td>0.006072874493927126</td>\n",
       "    </tr>\n",
       "    <tr>\n",
       "        <td>Science Fiction</td>\n",
       "        <td>1</td>\n",
       "        <td>0.0020242914979757085</td>\n",
       "    </tr>\n",
       "</table>"
      ],
      "text/plain": [
       "[('Rock', 157, 0.31781376518218624),\n",
       " ('Latin', 91, 0.18421052631578946),\n",
       " ('Metal', 64, 0.12955465587044535),\n",
       " ('Alternative & Punk', 50, 0.10121457489878542),\n",
       " ('Jazz', 22, 0.044534412955465584),\n",
       " ('Blues', 15, 0.030364372469635626),\n",
       " ('TV Shows', 14, 0.02834008097165992),\n",
       " ('R&B/Soul', 12, 0.024291497975708502),\n",
       " ('Classical', 8, 0.016194331983805668),\n",
       " ('Comedy', 8, 0.016194331983805668),\n",
       " ('Bossa Nova', 7, 0.01417004048582996),\n",
       " ('Drama', 6, 0.012145748987854251),\n",
       " ('Reggae', 6, 0.012145748987854251),\n",
       " ('Alternative', 5, 0.010121457489878543),\n",
       " ('Pop', 5, 0.010121457489878543),\n",
       " ('Sci Fi & Fantasy', 5, 0.010121457489878543),\n",
       " ('Heavy Metal', 4, 0.008097165991902834),\n",
       " ('Hip Hop/Rap', 4, 0.008097165991902834),\n",
       " ('Soundtrack', 4, 0.008097165991902834),\n",
       " ('Easy Listening', 3, 0.006072874493927126),\n",
       " ('Rock And Roll', 3, 0.006072874493927126),\n",
       " ('Science Fiction', 1, 0.0020242914979757085)]"
      ]
     },
     "execution_count": 8,
     "metadata": {},
     "output_type": "execute_result"
    }
   ],
   "source": [
    "%%sql\n",
    "SELECT \n",
    "    g.name,                          -- # selects the name of the genre\n",
    "    SUM(ii.Quantity) tracks_sold,    -- # summation of the number of tracks sold\n",
    "    CAST(SUM(ii.Quantity) as float) / (SELECT                          -- # divided by the total number of tracks sold in USA, not segmented by genre\n",
    "                                       CAST(SUM(ii.Quantity) as float) \n",
    "                                       FROM invoice_items ii\n",
    "                                       LEFT JOIN invoices i\n",
    "                                       ON ii.InvoiceId = i.InvoiceId\n",
    "                                       WHERE i.BillingCountry = 'USA') \n",
    "                                       percentage_sold\n",
    "\n",
    "FROM tracks t \n",
    "LEFT JOIN invoice_items ii \n",
    "    ON t.TrackId = ii.TrackId\n",
    "LEFT JOIN invoices i \n",
    "    ON ii.InvoiceId = i.InvoiceId\n",
    "LEFT JOIN genres g\n",
    "    ON t.GenreId = g.GenreId\n",
    "WHERE i.BillingCountry = 'USA'    -- # filters the query to only show data for USA\n",
    "GROUP BY g.name                   -- # segments the query by genre \n",
    "ORDER BY SUM(ii.Quantity) DESC    -- # sorts by the number of tracks sold"
   ]
  },
  {
   "cell_type": "markdown",
   "metadata": {},
   "source": [
    "Based on the sales across different genres in the USA, we should prioritize the purchase of new albums by the following artists:\n",
    "* Red Tone (Punk): Punk genre accounted for 50 track sales (10% of USA track sales)\n",
    "* Slim Jim Bites (Blues): Blues genre accounted for 50 track sales (3% of USA track sales) \n",
    "* Meteor and the Girls (Pop): Pop genre accounted for 5 track sales (1% of USA track sales) \n",
    "\n",
    "However, these three genres only make up for 14.17% of the total sales for USA market. We should also be on the lookout for artists within the rock genre as they make up for 31.78% of the total sales. "
   ]
  },
  {
   "cell_type": "markdown",
   "metadata": {},
   "source": [
    "# Analyzing Employee Sales Performance\n",
    "\n",
    "Each customer for Chinook Store gets assigned to a sales support agent when they first make a purchase. Management is interested in knowing which support agent is driving the most and least amount of sales, and what factors might be contributing to the sales agent's performance.\n",
    "\n",
    "## Analysis\n",
    "\n",
    "To approach this question, we will do a left join between employees, customers, and invoices tables to see how everyone's performing based on the sales number:"
   ]
  },
  {
   "cell_type": "code",
   "execution_count": 9,
   "metadata": {},
   "outputs": [
    {
     "name": "stdout",
     "output_type": "stream",
     "text": [
      " * sqlite:///chinook.db\n",
      "Done.\n"
     ]
    },
    {
     "data": {
      "text/html": [
       "<table>\n",
       "    <tr>\n",
       "        <th>employee</th>\n",
       "        <th>Sales</th>\n",
       "    </tr>\n",
       "    <tr>\n",
       "        <td>Jane Peacock</td>\n",
       "        <td>833.0400000000013</td>\n",
       "    </tr>\n",
       "    <tr>\n",
       "        <td>Margaret Park</td>\n",
       "        <td>775.4000000000011</td>\n",
       "    </tr>\n",
       "    <tr>\n",
       "        <td>Steve Johnson</td>\n",
       "        <td>720.160000000001</td>\n",
       "    </tr>\n",
       "    <tr>\n",
       "        <td>Andrew Adams</td>\n",
       "        <td>None</td>\n",
       "    </tr>\n",
       "    <tr>\n",
       "        <td>Laura Callahan</td>\n",
       "        <td>None</td>\n",
       "    </tr>\n",
       "    <tr>\n",
       "        <td>Michael Mitchell</td>\n",
       "        <td>None</td>\n",
       "    </tr>\n",
       "    <tr>\n",
       "        <td>Nancy Edwards</td>\n",
       "        <td>None</td>\n",
       "    </tr>\n",
       "    <tr>\n",
       "        <td>Robert King</td>\n",
       "        <td>None</td>\n",
       "    </tr>\n",
       "</table>"
      ],
      "text/plain": [
       "[('Jane Peacock', 833.0400000000013),\n",
       " ('Margaret Park', 775.4000000000011),\n",
       " ('Steve Johnson', 720.160000000001),\n",
       " ('Andrew Adams', None),\n",
       " ('Laura Callahan', None),\n",
       " ('Michael Mitchell', None),\n",
       " ('Nancy Edwards', None),\n",
       " ('Robert King', None)]"
      ]
     },
     "execution_count": 9,
     "metadata": {},
     "output_type": "execute_result"
    }
   ],
   "source": [
    "%%sql\n",
    "SELECT \n",
    "    e.FirstName|| \" \"||e.LastName employee -- # combines the first and last name column as employee full name\n",
    "    ,SUM(i.Total) Sales                    -- # summation of the sales number\n",
    "FROM employees e\n",
    "LEFT JOIN customers c\n",
    "ON e.EmployeeId = c.SupportRepId\n",
    "LEFT JOIN invoices i\n",
    "ON i.CustomerId = c.CustomerId\n",
    "GROUP BY e.FirstName|| \" \"||e.LastName\n",
    "ORDER BY Sales DESC                     -- # sort by sales (highest to lowest)"
   ]
  },
  {
   "cell_type": "markdown",
   "metadata": {},
   "source": [
    "Based on this result, Jane Peacock is the top performer and she generated about 15% more sales compared to Steve Johnson, the bottom performer. Next, let's see if there's a variable on the employee table that might contribute to their performance."
   ]
  },
  {
   "cell_type": "code",
   "execution_count": 10,
   "metadata": {},
   "outputs": [
    {
     "name": "stdout",
     "output_type": "stream",
     "text": [
      " * sqlite:///chinook.db\n",
      "Done.\n"
     ]
    },
    {
     "data": {
      "text/html": [
       "<table>\n",
       "    <tr>\n",
       "        <th>EmployeeId</th>\n",
       "        <th>LastName</th>\n",
       "        <th>FirstName</th>\n",
       "        <th>Title</th>\n",
       "        <th>ReportsTo</th>\n",
       "        <th>BirthDate</th>\n",
       "        <th>HireDate</th>\n",
       "        <th>Address</th>\n",
       "        <th>City</th>\n",
       "        <th>State</th>\n",
       "        <th>Country</th>\n",
       "        <th>PostalCode</th>\n",
       "        <th>Phone</th>\n",
       "        <th>Fax</th>\n",
       "        <th>Email</th>\n",
       "    </tr>\n",
       "    <tr>\n",
       "        <td>3</td>\n",
       "        <td>Peacock</td>\n",
       "        <td>Jane</td>\n",
       "        <td>Sales Support Agent</td>\n",
       "        <td>2</td>\n",
       "        <td>1973-08-29 00:00:00</td>\n",
       "        <td>2002-04-01 00:00:00</td>\n",
       "        <td>1111 6 Ave SW</td>\n",
       "        <td>Calgary</td>\n",
       "        <td>AB</td>\n",
       "        <td>Canada</td>\n",
       "        <td>T2P 5M5</td>\n",
       "        <td>+1 (403) 262-3443</td>\n",
       "        <td>+1 (403) 262-6712</td>\n",
       "        <td>jane@chinookcorp.com</td>\n",
       "    </tr>\n",
       "    <tr>\n",
       "        <td>4</td>\n",
       "        <td>Park</td>\n",
       "        <td>Margaret</td>\n",
       "        <td>Sales Support Agent</td>\n",
       "        <td>2</td>\n",
       "        <td>1947-09-19 00:00:00</td>\n",
       "        <td>2003-05-03 00:00:00</td>\n",
       "        <td>683 10 Street SW</td>\n",
       "        <td>Calgary</td>\n",
       "        <td>AB</td>\n",
       "        <td>Canada</td>\n",
       "        <td>T2P 5G3</td>\n",
       "        <td>+1 (403) 263-4423</td>\n",
       "        <td>+1 (403) 263-4289</td>\n",
       "        <td>margaret@chinookcorp.com</td>\n",
       "    </tr>\n",
       "    <tr>\n",
       "        <td>5</td>\n",
       "        <td>Johnson</td>\n",
       "        <td>Steve</td>\n",
       "        <td>Sales Support Agent</td>\n",
       "        <td>2</td>\n",
       "        <td>1965-03-03 00:00:00</td>\n",
       "        <td>2003-10-17 00:00:00</td>\n",
       "        <td>7727B 41 Ave</td>\n",
       "        <td>Calgary</td>\n",
       "        <td>AB</td>\n",
       "        <td>Canada</td>\n",
       "        <td>T3B 1Y7</td>\n",
       "        <td>1 (780) 836-9987</td>\n",
       "        <td>1 (780) 836-9543</td>\n",
       "        <td>steve@chinookcorp.com</td>\n",
       "    </tr>\n",
       "</table>"
      ],
      "text/plain": [
       "[(3, 'Peacock', 'Jane', 'Sales Support Agent', 2, '1973-08-29 00:00:00', '2002-04-01 00:00:00', '1111 6 Ave SW', 'Calgary', 'AB', 'Canada', 'T2P 5M5', '+1 (403) 262-3443', '+1 (403) 262-6712', 'jane@chinookcorp.com'),\n",
       " (4, 'Park', 'Margaret', 'Sales Support Agent', 2, '1947-09-19 00:00:00', '2003-05-03 00:00:00', '683 10 Street SW', 'Calgary', 'AB', 'Canada', 'T2P 5G3', '+1 (403) 263-4423', '+1 (403) 263-4289', 'margaret@chinookcorp.com'),\n",
       " (5, 'Johnson', 'Steve', 'Sales Support Agent', 2, '1965-03-03 00:00:00', '2003-10-17 00:00:00', '7727B 41 Ave', 'Calgary', 'AB', 'Canada', 'T3B 1Y7', '1 (780) 836-9987', '1 (780) 836-9543', 'steve@chinookcorp.com')]"
      ]
     },
     "execution_count": 10,
     "metadata": {},
     "output_type": "execute_result"
    }
   ],
   "source": [
    "%%sql\n",
    "SELECT \n",
    "   *\n",
    "FROM employees e\n",
    "WHERE e.LastName = \"Johnson\" \n",
    "    OR e.LastName = \"Park\"\n",
    "    OR e.LastName = \"Peacock\" "
   ]
  },
  {
   "cell_type": "markdown",
   "metadata": {},
   "source": [
    "It appears that Jane was hired over a year earlier than Steve. Since Jane has more experience, it is likely easier for her to communicate with the customers and led her to having better performance compared to her peers. \n",
    "\n",
    "Note: the invoice database only includes data from 2009 onwards, so it excludes any sales from customers on Jane's first year.\n",
    "\n",
    "# Sales Data by Country\n",
    "\n",
    "Chinook is looking to expand its marketing reach to other countries. We need to decide which countries to focus on since the store only have enough budget to expand towards three different countries. To come up with an answer we will gather the following data for each country:\n",
    "* Total number of customers\n",
    "* Total value of sales\n",
    "* Average value of sales per customer\n",
    "* Average order value\n",
    "\n",
    "## Analysis\n",
    "\n",
    "To approach this question, we will do a join between customers and invoices tables. To simplify our analysis, we will bucket countries that only have one customer to a group called \"Other\":"
   ]
  },
  {
   "cell_type": "code",
   "execution_count": 11,
   "metadata": {},
   "outputs": [
    {
     "name": "stdout",
     "output_type": "stream",
     "text": [
      " * sqlite:///chinook.db\n",
      "Done.\n"
     ]
    },
    {
     "data": {
      "text/html": [
       "<table>\n",
       "    <tr>\n",
       "        <th>country</th>\n",
       "        <th>num_customer</th>\n",
       "        <th>sales</th>\n",
       "        <th>avg_sales_per_cust</th>\n",
       "        <th>avg_order_value</th>\n",
       "    </tr>\n",
       "    <tr>\n",
       "        <td>Czech Republic</td>\n",
       "        <td>2</td>\n",
       "        <td>90.24000000000001</td>\n",
       "        <td>45.120000000000005</td>\n",
       "        <td>6.445714285714287</td>\n",
       "    </tr>\n",
       "    <tr>\n",
       "        <td>USA</td>\n",
       "        <td>13</td>\n",
       "        <td>523.0600000000001</td>\n",
       "        <td>40.23538461538462</td>\n",
       "        <td>5.747912087912089</td>\n",
       "    </tr>\n",
       "    <tr>\n",
       "        <td>Germany</td>\n",
       "        <td>4</td>\n",
       "        <td>156.48000000000002</td>\n",
       "        <td>39.120000000000005</td>\n",
       "        <td>5.588571428571429</td>\n",
       "    </tr>\n",
       "    <tr>\n",
       "        <td>France</td>\n",
       "        <td>5</td>\n",
       "        <td>195.10000000000002</td>\n",
       "        <td>39.02</td>\n",
       "        <td>5.574285714285715</td>\n",
       "    </tr>\n",
       "    <tr>\n",
       "        <td>Portugal</td>\n",
       "        <td>2</td>\n",
       "        <td>77.24000000000001</td>\n",
       "        <td>38.620000000000005</td>\n",
       "        <td>5.517142857142858</td>\n",
       "    </tr>\n",
       "    <tr>\n",
       "        <td>Brazil</td>\n",
       "        <td>5</td>\n",
       "        <td>190.10000000000002</td>\n",
       "        <td>38.02</td>\n",
       "        <td>5.431428571428572</td>\n",
       "    </tr>\n",
       "    <tr>\n",
       "        <td>Canada</td>\n",
       "        <td>8</td>\n",
       "        <td>303.96000000000004</td>\n",
       "        <td>37.995000000000005</td>\n",
       "        <td>5.427857142857143</td>\n",
       "    </tr>\n",
       "    <tr>\n",
       "        <td>India</td>\n",
       "        <td>2</td>\n",
       "        <td>75.26</td>\n",
       "        <td>37.63</td>\n",
       "        <td>5.78923076923077</td>\n",
       "    </tr>\n",
       "    <tr>\n",
       "        <td>United Kingdom</td>\n",
       "        <td>3</td>\n",
       "        <td>112.86000000000001</td>\n",
       "        <td>37.620000000000005</td>\n",
       "        <td>5.3742857142857146</td>\n",
       "    </tr>\n",
       "    <tr>\n",
       "        <td>Other</td>\n",
       "        <td>15</td>\n",
       "        <td>604.3</td>\n",
       "        <td>40.28666666666666</td>\n",
       "        <td>5.755238095238095</td>\n",
       "    </tr>\n",
       "</table>"
      ],
      "text/plain": [
       "[('Czech Republic', 2, 90.24000000000001, 45.120000000000005, 6.445714285714287),\n",
       " ('USA', 13, 523.0600000000001, 40.23538461538462, 5.747912087912089),\n",
       " ('Germany', 4, 156.48000000000002, 39.120000000000005, 5.588571428571429),\n",
       " ('France', 5, 195.10000000000002, 39.02, 5.574285714285715),\n",
       " ('Portugal', 2, 77.24000000000001, 38.620000000000005, 5.517142857142858),\n",
       " ('Brazil', 5, 190.10000000000002, 38.02, 5.431428571428572),\n",
       " ('Canada', 8, 303.96000000000004, 37.995000000000005, 5.427857142857143),\n",
       " ('India', 2, 75.26, 37.63, 5.78923076923077),\n",
       " ('United Kingdom', 3, 112.86000000000001, 37.620000000000005, 5.3742857142857146),\n",
       " ('Other', 15, 604.3, 40.28666666666666, 5.755238095238095)]"
      ]
     },
     "execution_count": 11,
     "metadata": {},
     "output_type": "execute_result"
    }
   ],
   "source": [
    "%%sql \n",
    "SELECT \n",
    "    c.country                                         \n",
    "    ,COUNT(c.customerId) num_customer\n",
    "    ,SUM(COALESCE(i.total,0)) sales\n",
    "    ,SUM(i.total)/COUNT(c.customerId) avg_sales_per_cust\n",
    "    ,SUM(i.total)/SUM(i.order_count) avg_order_value\n",
    "FROM \n",
    "    (SELECT \n",
    "    c.CustomerId \n",
    "    ,CASE WHEN c2.num_customer = 1 then \"Other\"  -- # buckets countries with 1 customer to Other\n",
    "     ELSE c.country END AS country\n",
    "    ,CASE WHEN c2.num_customer = 1 then 1 ELSE 0 -- # enables sorting to have Other at the bottom or top of the result table\n",
    "      END AS sort\n",
    "    FROM customers c\n",
    "    LEFT JOIN (SELECT                          -- # pulls number of customers by country\n",
    "               COUNT(CustomerId) num_customer  \n",
    "               ,country \n",
    "               FROM customers\n",
    "               GROUP BY country) c2 \n",
    "    ON c.country = c2.country\n",
    "    GROUP BY c.CustomerId) c\n",
    "LEFT JOIN (SELECT                               -- # pulls sales number and order count from invoices table           \n",
    "           CustomerId\n",
    "           ,SUM(COALESCE(Total,0)) total            -- # summation of sales number\n",
    "           ,COUNT(distinct InvoiceID) order_count   -- # counts the number of orders\n",
    "           FROM invoices\n",
    "           GROUP BY customerid) i\n",
    "ON i.CustomerId = c.CustomerId\n",
    "GROUP BY c.country                               -- # segments result by country\n",
    "ORDER BY c.sort, avg_sales_per_cust DESC                      -- # sort Other countries to the bottom, and countries with the highest sales at the top"
   ]
  },
  {
   "cell_type": "markdown",
   "metadata": {},
   "source": [
    "Based on the data, there may be opportunity in the following countries:\n",
    "* Czech Republic\n",
    "* Germany\n",
    "* France\n",
    "\n",
    "Czech Republic is the best country to spend additional marketing efforts towards because customers from this country have the highest average order value and average sales per customer. Therefore, each additional customer and/or order from Czech Republic will bring the highest amount of return on investment. Next on the list of countries with high average sales per customer are USA, Germany and France. Since we already have a strong presence in the USA, the next best countries to market towards are Germany and France.\n",
    "\n",
    "It is also worth keeping in mind that the sample size from these countries is relatively low. Therefore, it is best to not invest too much on these countries right at the beginning because the sample size is not large enough to give us confidence. The best approach is to invest in smaller amounts in these countries, collect and analyze new customers to see if the trend still holds with the new customers."
   ]
  }
 ],
 "metadata": {
  "kernelspec": {
   "display_name": "Python 3",
   "language": "python",
   "name": "python3"
  },
  "language_info": {
   "codemirror_mode": {
    "name": "ipython",
    "version": 3
   },
   "file_extension": ".py",
   "mimetype": "text/x-python",
   "name": "python",
   "nbconvert_exporter": "python",
   "pygments_lexer": "ipython3",
   "version": "3.7.2"
  }
 },
 "nbformat": 4,
 "nbformat_minor": 2
}
